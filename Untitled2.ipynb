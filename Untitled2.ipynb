{
 "cells": [
  {
   "cell_type": "code",
   "execution_count": 75,
   "metadata": {},
   "outputs": [],
   "source": [
    "import requests\n",
    "from bs4 import BeautifulSoup\n",
    "import re\n",
    "import sys\n",
    "\n"
   ]
  },
  {
   "cell_type": "code",
   "execution_count": null,
   "metadata": {},
   "outputs": [],
   "source": [
    "page = requests.get(\"https://scholar.google.com/citations?user=yEscV68AAAAJ&hl=en&oi=sra\")\n",
    "soup = BeautifulSoup(page.content, 'html.parser')\n",
    "\n"
   ]
  },
  {
   "cell_type": "code",
   "execution_count": 1,
   "metadata": {},
   "outputs": [
    {
     "output_type": "stream",
     "name": "stdout",
     "text": [
      "computer\n",
      "http://paulbourke.net/fractals/peterdejong/peterdejong.pdf\n",
      "Computer recreations\n",
      "http://www.ivanpoupyrev.com/e-library/2004/CHI2004_gummi.pdf\n",
      "Gummi: a bendable computer\n",
      "https://www.researchgate.net/profile/Wolfgang_Christian/publication/265022969_An_Introduction_to_Computer_Simulation_Methods/links/5550920a08ae956a5d253c52/An-Introduction-to-Computer-Simulation-Methods.pdf\n",
      "[BOOK][B] An introduction to computer simulation methods\n",
      "https://its-wiki.no/images/c/c9/UNIK4250-L7-MobileSecurity.pdf\n",
      "Computer security\n"
     ]
    }
   ],
   "source": [
    "import requests\n",
    "from bs4 import BeautifulSoup\n",
    "import re\n",
    "import sys\n",
    "\n",
    "query = 'computer'\n",
    "print(query)\n",
    "#query = input(\"Enter query :\")\n",
    "urls = [\"https://scholar.google.com/scholar?start=0&q=\"+str(query)+\"&hl=en&as_sdt=0,5\"]\n",
    "\n",
    "data = []\n",
    "author = []\n",
    "count = 0\n",
    "for url in urls:\n",
    "    if count>=5:\n",
    "        break\n",
    "    try:\n",
    "        page = requests.get(url)\n",
    "    except: \n",
    "        continue\n",
    "    soup = BeautifulSoup(page.content, 'html.parser')\n",
    "\n",
    "    for item in soup.select('[data-did]'):\n",
    "        if count>=5:\n",
    "            break\n",
    "        paper = []  #1.Pdf link  2.title  3.Keywords(10) 4.body\n",
    "        try:\n",
    "            #print(str(item.select('div.gs_ggsd')[0].select('a')[0]['href']))  #Pdf link\n",
    "            if(re.search('.pdf',item.select('div.gs_ggsd')[0].select('a')[0]['href'])):\n",
    "                print(str(item.select('div.gs_ggsd')[0].select('a')[0]['href']))  #Pdf link\n",
    "                paper.append(str(item.select('div.gs_ggsd')[0].select('a')[0]['href']))\n",
    "            else: continue\n",
    "        except:\n",
    "            continue\n",
    "        \n",
    "        print(item.select('h3')[0].get_text()) #Title\n",
    "        paper.append(item.select('h3')[0].get_text())\n",
    "        try:\n",
    "            text = pdf_from_url_to_txt(paper[0])\n",
    "        except:\n",
    "            continue\n",
    "\n",
    "        # importing modules \n",
    "        from nltk.stem import PorterStemmer \n",
    "        from nltk.tokenize import word_tokenize \n",
    "        regex = re.compile('[^a-zA-Z.,0-9]')\n",
    "        text = regex.sub(' ',text)\n",
    "        #print(text)\n",
    "\n",
    "        from rake_nltk import Rake\n",
    "        from nltk.corpus import stopwords\n",
    "\n",
    "        r = Rake(punctuations=\".,\"'',stopwords=stopwords.words('english'),max_length=1) # Uses stopwords for english from NLTK, and all puntuation characters.\n",
    "\n",
    "        r.extract_keywords_from_text(text)\n",
    "\n",
    "        tmp = r.get_ranked_phrases()[:5] # To get keyword phrases ranked highest to lowest.\n",
    "        keyword = \"; \".join(tmp)\n",
    "        \n",
    "        paper.append(keyword)\n",
    "        try:\n",
    "            paper.append(text[:1000])\n",
    "        except:\n",
    "            paper.append(text)\n",
    "        data.append(paper)\n",
    "        count = count + 1\n",
    "        #print(item.select('.gs_rs')[0].get_text())   #Abstract\n",
    "        #print(item.select('.gs_a')[0].get_text())   #Green text\n",
    "        try:\n",
    "            author.append(\"https://scholar.google.com/\" + str(item.select('div.gs_a')[0].select('a')[0]['href']))\n",
    "        except:\n",
    "            author.append(\"\")\n",
    "        print('----------------------------')"
   ]
  },
  {
   "cell_type": "code",
   "execution_count": 93,
   "metadata": {},
   "outputs": [
    {
     "data": {
      "text/plain": [
       "[]"
      ]
     },
     "execution_count": 93,
     "metadata": {},
     "output_type": "execute_result"
    }
   ],
   "source": [
    "author"
   ]
  },
  {
   "cell_type": "code",
   "execution_count": 2,
   "metadata": {},
   "outputs": [],
   "source": [
    "import requests\n",
    "from bs4 import BeautifulSoup\n",
    "\n",
    "url = \"https://scholar.google.com/citations?user=cJ-MqLIAAAAJ&hl=en&oi=sra\"\n",
    "page = requests.get(url)\n",
    "soup = BeautifulSoup(page.content, 'html.parser')\n"
   ]
  },
  {
   "cell_type": "code",
   "execution_count": 9,
   "metadata": {},
   "outputs": [],
   "source": [
    "span = soup.find(\"span\", id=\"gsc_g_al\")\n",
    "span"
   ]
  },
  {
   "cell_type": "code",
   "execution_count": 11,
   "metadata": {},
   "outputs": [
    {
     "output_type": "stream",
     "name": "stdout",
     "text": [
      "None\n"
     ]
    }
   ],
   "source": [
    "print(span)"
   ]
  },
  {
   "cell_type": "code",
   "execution_count": 17,
   "metadata": {},
   "outputs": [
    {
     "output_type": "stream",
     "name": "stdout",
     "text": [
      "60\n30\n50\n71\n92\n124\n188\n216\n329\n357\n355\n331\n387\n394\n385\n423\n389\n368\n428\n373\n409\n448\n461\n474\n445\n512\n500\n620\n706\n721\n652\n674\n673\n657\n620\n657\n603\n231\n"
     ]
    }
   ],
   "source": [
    "for span in soup.select('span.gsc_g_al'):\n",
    "    print(int(span.text))"
   ]
  },
  {
   "cell_type": "code",
   "execution_count": 15,
   "metadata": {},
   "outputs": [
    {
     "output_type": "execute_result",
     "data": {
      "text/plain": [
       "60"
      ]
     },
     "metadata": {},
     "execution_count": 15
    }
   ],
   "source": [
    "int(soup.select('span.gsc_g_al')[0].text)"
   ]
  },
  {
   "cell_type": "code",
   "execution_count": 1,
   "metadata": {},
   "outputs": [],
   "source": [
    "import mysql.connector\n",
    "db = mysql.connector.connect(\n",
    "  host=\"localhost\",\n",
    "  user=\"root\",\n",
    "  password=\"\",\n",
    "  database='db'\n",
    ")"
   ]
  },
  {
   "cell_type": "code",
   "execution_count": 3,
   "metadata": {},
   "outputs": [],
   "source": [
    "cursor = db.cursor()\n",
    "\n",
    "query = (\"SELECT * FROM users\")\n",
    "cursor.execute(query)"
   ]
  },
  {
   "cell_type": "code",
   "execution_count": 42,
   "metadata": {},
   "outputs": [
    {
     "name": "stdout",
     "output_type": "stream",
     "text": [
      "1\n",
      "aritra\n",
      "aritrashome.shome8@gmail.com\n",
      "1\n",
      "3\n",
      "xyz\n",
      "xyz@gmail.com\n",
      "1\n"
     ]
    },
    {
     "data": {
      "text/plain": [
       "True"
      ]
     },
     "execution_count": 42,
     "metadata": {},
     "output_type": "execute_result"
    }
   ],
   "source": [
    "db = mysql.connector.connect(\n",
    "  host=\"localhost\",\n",
    "  user=\"root\",\n",
    "  password=\"\",\n",
    "  database='db'\n",
    ")\n",
    "cursor = db.cursor()\n",
    "query = (\"SELECT * FROM users\")\n",
    "cursor.execute(query)\n",
    "for (id, UserID, Email, Password) in cursor:\n",
    "    print(id)\n",
    "    print(UserID)\n",
    "    print(Email)\n",
    "    print(Password)\n",
    "cursor.close()"
   ]
  },
  {
   "cell_type": "code",
   "execution_count": 70,
   "metadata": {},
   "outputs": [],
   "source": [
    "SCA = 60"
   ]
  },
  {
   "cell_type": "code",
   "execution_count": 71,
   "metadata": {},
   "outputs": [
    {
     "data": {
      "text/plain": [
       "\"INSERT INTO `papers` (`id`, `title`, `UserID`, `KDM`, `CAOT`, `SQM`, `SCA`, `topic`, `time`) VALUES (NULL, 'Computer recreations','aritra', '0','-1000.0','-1000','60','3', current_timestamp());\""
      ]
     },
     "execution_count": 71,
     "metadata": {},
     "output_type": "execute_result"
    }
   ],
   "source": [
    "import pandas as pd\n",
    "#df = pd.read_csv('main/data.csv')\n",
    "userid = 'aritra'\n",
    "\"INSERT INTO `papers` (`id`, `title`, `UserID`, `KDM`, `CAOT`, `SQM`, `SCA`, `topic`, `time`) VALUES (NULL, '\"+title+\"','\"+UserID+\"', '\"+str(KDM)+\"','\"+str(CAOT)+\"','\"+str(SQM)+\"','\"+str(SCA)+\"','\"+str(topic)+\"', current_timestamp());\""
   ]
  },
  {
   "cell_type": "code",
   "execution_count": 72,
   "metadata": {},
   "outputs": [
    {
     "data": {
      "text/plain": [
       "True"
      ]
     },
     "execution_count": 72,
     "metadata": {},
     "output_type": "execute_result"
    }
   ],
   "source": [
    "################### READ ###################\n",
    "i=0\n",
    "title =df['Source title'][i] \n",
    "UserID=userid\n",
    "KDM=df['KDM'][i] \n",
    "CAOT=df['CAOT'][i]\n",
    "SQM=df['SQM'][i]\n",
    "SCA=df['SCA'][i]\n",
    "topic=df['Topic'][i]\n",
    "\n",
    "db = mysql.connector.connect(\n",
    "  host=\"localhost\",\n",
    "  user=\"root\",\n",
    "  password=\"\",\n",
    "  database='db'\n",
    ")\n",
    "cursor = db.cursor()\n",
    "sql = (\"INSERT INTO `papers` (`id`, `title`, `UserID`, `KDM`, `CAOT`, `SQM`, `SCA`, `topic`, `time`) VALUES (NULL, '\"+title+\"','\"+UserID+\"', '\"+str(KDM)+\"','\"+str(CAOT)+\"','\"+str(SQM)+\"','\"+str(SCA)+\"','\"+str(topic)+\"', current_timestamp());\")\n",
    "#val = (title, UserID, KDM, CAOT, SQM, SCA, topic)\n",
    "cursor.execute(sql)\n",
    "db.commit()\n",
    "cursor.close()\n",
    "#print(title)"
   ]
  },
  {
   "cell_type": "code",
   "execution_count": 55,
   "metadata": {},
   "outputs": [
    {
     "data": {
      "text/plain": [
       "[(1,\n",
       "  'Computers',\n",
       "  'aritra',\n",
       "  11.0,\n",
       "  5.0,\n",
       "  51.0,\n",
       "  23.0,\n",
       "  1,\n",
       "  datetime.datetime(2021, 5, 16, 20, 18, 5))]"
      ]
     },
     "execution_count": 55,
     "metadata": {},
     "output_type": "execute_result"
    }
   ],
   "source": [
    "################## SEARCH ##########################\n",
    "userid = 'aritra'\n",
    "db = mysql.connector.connect(\n",
    "  host=\"localhost\",\n",
    "  user=\"root\",\n",
    "  password=\"\",\n",
    "  database='db'\n",
    ")\n",
    "cursor = db.cursor()\n",
    "sql = (\"SELECT * FROM papers WHERE UserID='\"+str(userid)+\"'\")\n",
    "cursor.execute(sql)\n",
    "res = cursor.fetchall()\n",
    "#for i in range(len(res)):\n",
    "cursor.close()\n",
    "res"
   ]
  },
  {
   "cell_type": "code",
   "execution_count": 58,
   "metadata": {},
   "outputs": [
    {
     "data": {
      "text/plain": [
       "'Computers'"
      ]
     },
     "execution_count": 58,
     "metadata": {},
     "output_type": "execute_result"
    }
   ],
   "source": [
    "res[0][1]"
   ]
  },
  {
   "cell_type": "code",
   "execution_count": 46,
   "metadata": {},
   "outputs": [
    {
     "name": "stdout",
     "output_type": "stream",
     "text": [
      "14\n"
     ]
    }
   ],
   "source": [
    "###################### Login ###############################\n",
    "userid = 'x'\n",
    "password = '1'\n",
    "db = mysql.connector.connect(\n",
    "  host=\"localhost\",\n",
    "  user=\"root\",\n",
    "  password=\"\",\n",
    "  database='db'\n",
    ")\n",
    "cursor = db.cursor()\n",
    "query = (\"SELECT * FROM users WHERE UserID='\"+str(userid)+\"'\")\n",
    "cursor.execute(query)\n",
    "\n",
    "res = cursor.fetchall()\n",
    "if(len(res)==0): \n",
    "    print('wrong user')\n",
    "    \n",
    "\n",
    "elif(res[0][3]!=password):\n",
    "    print('wrong pass')\n",
    "else: print(id)\n",
    "\n",
    "cursor.close()"
   ]
  },
  {
   "cell_type": "code",
   "execution_count": null,
   "metadata": {},
   "outputs": [],
   "source": []
  },
  {
   "cell_type": "code",
   "execution_count": 74,
   "metadata": {},
   "outputs": [
    {
     "data": {
      "text/plain": [
       "True"
      ]
     },
     "execution_count": 74,
     "metadata": {},
     "output_type": "execute_result"
    }
   ],
   "source": [
    "######################## Register ##############################\n",
    "userid = 'x1'\n",
    "email = 'x1@abcd.com'\n",
    "password = '1'\n",
    "\n",
    "db = mysql.connector.connect(\n",
    "  host=\"localhost\",\n",
    "  user=\"root\",\n",
    "  password=\"\",\n",
    "  database='db'\n",
    ")\n",
    "cursor = db.cursor()\n",
    "sql = (\"SELECT * FROM users WHERE UserID='\"+str(userid)+\"'\")\n",
    "cursor.execute(sql)\n",
    "res = cursor.fetchall()\n",
    "if(len(res)!=0): \n",
    "    print('Already user')\n",
    "    \n",
    "else:\n",
    "    insert = (\"INSERT INTO `users` (`id`, `UserID`, `email`, `password`) VALUES (NULL, '\"+userid+\"', '\"+email+\"', '\"+password+\"');\")\n",
    "    cursor.execute(insert)\n",
    "    db.commit()\n",
    "cursor.close()"
   ]
  },
  {
   "cell_type": "code",
   "execution_count": 28,
   "metadata": {},
   "outputs": [
    {
     "data": {
      "text/plain": [
       "True"
      ]
     },
     "execution_count": 28,
     "metadata": {},
     "output_type": "execute_result"
    }
   ],
   "source": [
    "#Register\n",
    "db = mysql.connector.connect(\n",
    "  host=\"localhost\",\n",
    "  user=\"root\",\n",
    "  password=\"\",\n",
    "  database='db'\n",
    ")\n",
    "cursor = db.cursor()\n",
    "insert = (\"INSERT INTO `users` (`id`, `UserID`, `email`, `password`) VALUES (NULL, %s, %s, %s);\")\n",
    "cursor.execute(insert,(UserID,email,password))\n",
    "\n",
    "cursor.close()"
   ]
  },
  {
   "cell_type": "code",
   "execution_count": null,
   "metadata": {},
   "outputs": [],
   "source": []
  },
  {
   "cell_type": "code",
   "execution_count": null,
   "metadata": {},
   "outputs": [],
   "source": []
  },
  {
   "cell_type": "code",
   "execution_count": null,
   "metadata": {},
   "outputs": [],
   "source": []
  },
  {
   "cell_type": "code",
   "execution_count": 19,
   "metadata": {},
   "outputs": [],
   "source": [
    "from __future__ import print_function\n",
    "import numpy as np\n",
    "from itertools import combinations, permutations\n",
    "import pandas as pd\n",
    "\n",
    "df = pd.read_csv('main/data.csv')\n",
    "ranks = [df['CAOT'],df['SQM']]"
   ]
  },
  {
   "cell_type": "code",
   "execution_count": 20,
   "metadata": {},
   "outputs": [],
   "source": [
    "def kendalltau_dist(rank_a, rank_b):\n",
    "    tau = 0\n",
    "    n_candidates = len(rank_a)\n",
    "    for i, j in combinations(range(n_candidates), 2):\n",
    "        tau += (np.sign(rank_a[i] - rank_a[j]) ==\n",
    "                -np.sign(rank_b[i] - rank_b[j]))\n",
    "    return tau\n",
    "def rankaggr_brute(ranks):\n",
    "    min_dist = np.inf\n",
    "    best_rank = None\n",
    "    n_voters, n_candidates = ranks.shape\n",
    "    for candidate_rank in permutations(range(n_candidates)):\n",
    "        dist = np.sum(kendalltau_dist(candidate_rank, rank) for rank in ranks)\n",
    "        if dist < min_dist:\n",
    "            min_dist = dist\n",
    "            best_rank = candidate_rank\n",
    "    return best_rank"
   ]
  },
  {
   "cell_type": "code",
   "execution_count": 21,
   "metadata": {},
   "outputs": [
    {
     "data": {
      "text/plain": [
       "(2, 11)"
      ]
     },
     "execution_count": 21,
     "metadata": {},
     "output_type": "execute_result"
    }
   ],
   "source": [
    "np.array(ranks).shape"
   ]
  },
  {
   "cell_type": "code",
   "execution_count": 22,
   "metadata": {},
   "outputs": [
    {
     "name": "stderr",
     "output_type": "stream",
     "text": [
      "c:\\users\\hp\\appdata\\local\\programs\\python\\python37\\lib\\site-packages\\ipykernel_launcher.py:13: DeprecationWarning: Calling np.sum(generator) is deprecated, and in the future will give a different result. Use np.sum(np.fromiter(generator)) or the python sum builtin instead.\n",
      "  del sys.path[0]\n"
     ]
    },
    {
     "ename": "KeyboardInterrupt",
     "evalue": "",
     "output_type": "error",
     "traceback": [
      "\u001b[1;31m---------------------------------------------------------------------------\u001b[0m",
      "\u001b[1;31mKeyboardInterrupt\u001b[0m                         Traceback (most recent call last)",
      "\u001b[1;32m<ipython-input-22-04bbe3c7f003>\u001b[0m in \u001b[0;36m<module>\u001b[1;34m\u001b[0m\n\u001b[1;32m----> 1\u001b[1;33m \u001b[0maggr\u001b[0m \u001b[1;33m=\u001b[0m \u001b[0mrankaggr_brute\u001b[0m\u001b[1;33m(\u001b[0m\u001b[0mnp\u001b[0m\u001b[1;33m.\u001b[0m\u001b[0marray\u001b[0m\u001b[1;33m(\u001b[0m\u001b[0mranks\u001b[0m\u001b[1;33m)\u001b[0m\u001b[1;33m)\u001b[0m\u001b[1;33m\u001b[0m\u001b[1;33m\u001b[0m\u001b[0m\n\u001b[0m",
      "\u001b[1;32m<ipython-input-20-c1e4dbbed63c>\u001b[0m in \u001b[0;36mrankaggr_brute\u001b[1;34m(ranks)\u001b[0m\n\u001b[0;32m     11\u001b[0m     \u001b[0mn_voters\u001b[0m\u001b[1;33m,\u001b[0m \u001b[0mn_candidates\u001b[0m \u001b[1;33m=\u001b[0m \u001b[0mranks\u001b[0m\u001b[1;33m.\u001b[0m\u001b[0mshape\u001b[0m\u001b[1;33m\u001b[0m\u001b[1;33m\u001b[0m\u001b[0m\n\u001b[0;32m     12\u001b[0m     \u001b[1;32mfor\u001b[0m \u001b[0mcandidate_rank\u001b[0m \u001b[1;32min\u001b[0m \u001b[0mpermutations\u001b[0m\u001b[1;33m(\u001b[0m\u001b[0mrange\u001b[0m\u001b[1;33m(\u001b[0m\u001b[0mn_candidates\u001b[0m\u001b[1;33m)\u001b[0m\u001b[1;33m)\u001b[0m\u001b[1;33m:\u001b[0m\u001b[1;33m\u001b[0m\u001b[1;33m\u001b[0m\u001b[0m\n\u001b[1;32m---> 13\u001b[1;33m         \u001b[0mdist\u001b[0m \u001b[1;33m=\u001b[0m \u001b[0mnp\u001b[0m\u001b[1;33m.\u001b[0m\u001b[0msum\u001b[0m\u001b[1;33m(\u001b[0m\u001b[0mkendalltau_dist\u001b[0m\u001b[1;33m(\u001b[0m\u001b[0mcandidate_rank\u001b[0m\u001b[1;33m,\u001b[0m \u001b[0mrank\u001b[0m\u001b[1;33m)\u001b[0m \u001b[1;32mfor\u001b[0m \u001b[0mrank\u001b[0m \u001b[1;32min\u001b[0m \u001b[0mranks\u001b[0m\u001b[1;33m)\u001b[0m\u001b[1;33m\u001b[0m\u001b[1;33m\u001b[0m\u001b[0m\n\u001b[0m\u001b[0;32m     14\u001b[0m         \u001b[1;32mif\u001b[0m \u001b[0mdist\u001b[0m \u001b[1;33m<\u001b[0m \u001b[0mmin_dist\u001b[0m\u001b[1;33m:\u001b[0m\u001b[1;33m\u001b[0m\u001b[1;33m\u001b[0m\u001b[0m\n\u001b[0;32m     15\u001b[0m             \u001b[0mmin_dist\u001b[0m \u001b[1;33m=\u001b[0m \u001b[0mdist\u001b[0m\u001b[1;33m\u001b[0m\u001b[1;33m\u001b[0m\u001b[0m\n",
      "\u001b[1;32m<__array_function__ internals>\u001b[0m in \u001b[0;36msum\u001b[1;34m(*args, **kwargs)\u001b[0m\n",
      "\u001b[1;32mc:\\users\\hp\\appdata\\local\\programs\\python\\python37\\lib\\site-packages\\numpy\\core\\fromnumeric.py\u001b[0m in \u001b[0;36msum\u001b[1;34m(a, axis, dtype, out, keepdims, initial, where)\u001b[0m\n\u001b[0;32m   2233\u001b[0m             DeprecationWarning, stacklevel=3)\n\u001b[0;32m   2234\u001b[0m \u001b[1;33m\u001b[0m\u001b[0m\n\u001b[1;32m-> 2235\u001b[1;33m         \u001b[0mres\u001b[0m \u001b[1;33m=\u001b[0m \u001b[0m_sum_\u001b[0m\u001b[1;33m(\u001b[0m\u001b[0ma\u001b[0m\u001b[1;33m)\u001b[0m\u001b[1;33m\u001b[0m\u001b[1;33m\u001b[0m\u001b[0m\n\u001b[0m\u001b[0;32m   2236\u001b[0m         \u001b[1;32mif\u001b[0m \u001b[0mout\u001b[0m \u001b[1;32mis\u001b[0m \u001b[1;32mnot\u001b[0m \u001b[1;32mNone\u001b[0m\u001b[1;33m:\u001b[0m\u001b[1;33m\u001b[0m\u001b[1;33m\u001b[0m\u001b[0m\n\u001b[0;32m   2237\u001b[0m             \u001b[0mout\u001b[0m\u001b[1;33m[\u001b[0m\u001b[1;33m...\u001b[0m\u001b[1;33m]\u001b[0m \u001b[1;33m=\u001b[0m \u001b[0mres\u001b[0m\u001b[1;33m\u001b[0m\u001b[1;33m\u001b[0m\u001b[0m\n",
      "\u001b[1;32m<ipython-input-20-c1e4dbbed63c>\u001b[0m in \u001b[0;36m<genexpr>\u001b[1;34m(.0)\u001b[0m\n\u001b[0;32m     11\u001b[0m     \u001b[0mn_voters\u001b[0m\u001b[1;33m,\u001b[0m \u001b[0mn_candidates\u001b[0m \u001b[1;33m=\u001b[0m \u001b[0mranks\u001b[0m\u001b[1;33m.\u001b[0m\u001b[0mshape\u001b[0m\u001b[1;33m\u001b[0m\u001b[1;33m\u001b[0m\u001b[0m\n\u001b[0;32m     12\u001b[0m     \u001b[1;32mfor\u001b[0m \u001b[0mcandidate_rank\u001b[0m \u001b[1;32min\u001b[0m \u001b[0mpermutations\u001b[0m\u001b[1;33m(\u001b[0m\u001b[0mrange\u001b[0m\u001b[1;33m(\u001b[0m\u001b[0mn_candidates\u001b[0m\u001b[1;33m)\u001b[0m\u001b[1;33m)\u001b[0m\u001b[1;33m:\u001b[0m\u001b[1;33m\u001b[0m\u001b[1;33m\u001b[0m\u001b[0m\n\u001b[1;32m---> 13\u001b[1;33m         \u001b[0mdist\u001b[0m \u001b[1;33m=\u001b[0m \u001b[0mnp\u001b[0m\u001b[1;33m.\u001b[0m\u001b[0msum\u001b[0m\u001b[1;33m(\u001b[0m\u001b[0mkendalltau_dist\u001b[0m\u001b[1;33m(\u001b[0m\u001b[0mcandidate_rank\u001b[0m\u001b[1;33m,\u001b[0m \u001b[0mrank\u001b[0m\u001b[1;33m)\u001b[0m \u001b[1;32mfor\u001b[0m \u001b[0mrank\u001b[0m \u001b[1;32min\u001b[0m \u001b[0mranks\u001b[0m\u001b[1;33m)\u001b[0m\u001b[1;33m\u001b[0m\u001b[1;33m\u001b[0m\u001b[0m\n\u001b[0m\u001b[0;32m     14\u001b[0m         \u001b[1;32mif\u001b[0m \u001b[0mdist\u001b[0m \u001b[1;33m<\u001b[0m \u001b[0mmin_dist\u001b[0m\u001b[1;33m:\u001b[0m\u001b[1;33m\u001b[0m\u001b[1;33m\u001b[0m\u001b[0m\n\u001b[0;32m     15\u001b[0m             \u001b[0mmin_dist\u001b[0m \u001b[1;33m=\u001b[0m \u001b[0mdist\u001b[0m\u001b[1;33m\u001b[0m\u001b[1;33m\u001b[0m\u001b[0m\n",
      "\u001b[1;32m<ipython-input-20-c1e4dbbed63c>\u001b[0m in \u001b[0;36mkendalltau_dist\u001b[1;34m(rank_a, rank_b)\u001b[0m\n\u001b[0;32m      4\u001b[0m     \u001b[1;32mfor\u001b[0m \u001b[0mi\u001b[0m\u001b[1;33m,\u001b[0m \u001b[0mj\u001b[0m \u001b[1;32min\u001b[0m \u001b[0mcombinations\u001b[0m\u001b[1;33m(\u001b[0m\u001b[0mrange\u001b[0m\u001b[1;33m(\u001b[0m\u001b[0mn_candidates\u001b[0m\u001b[1;33m)\u001b[0m\u001b[1;33m,\u001b[0m \u001b[1;36m2\u001b[0m\u001b[1;33m)\u001b[0m\u001b[1;33m:\u001b[0m\u001b[1;33m\u001b[0m\u001b[1;33m\u001b[0m\u001b[0m\n\u001b[0;32m      5\u001b[0m         tau += (np.sign(rank_a[i] - rank_a[j]) ==\n\u001b[1;32m----> 6\u001b[1;33m                 -np.sign(rank_b[i] - rank_b[j]))\n\u001b[0m\u001b[0;32m      7\u001b[0m     \u001b[1;32mreturn\u001b[0m \u001b[0mtau\u001b[0m\u001b[1;33m\u001b[0m\u001b[1;33m\u001b[0m\u001b[0m\n\u001b[0;32m      8\u001b[0m \u001b[1;32mdef\u001b[0m \u001b[0mrankaggr_brute\u001b[0m\u001b[1;33m(\u001b[0m\u001b[0mranks\u001b[0m\u001b[1;33m)\u001b[0m\u001b[1;33m:\u001b[0m\u001b[1;33m\u001b[0m\u001b[1;33m\u001b[0m\u001b[0m\n",
      "\u001b[1;31mKeyboardInterrupt\u001b[0m: "
     ]
    }
   ],
   "source": [
    "aggr = rankaggr_brute(np.array(ranks))"
   ]
  },
  {
   "cell_type": "code",
   "execution_count": 2,
   "metadata": {},
   "outputs": [
    {
     "data": {
      "text/html": [
       "<div>\n",
       "<style scoped>\n",
       "    .dataframe tbody tr th:only-of-type {\n",
       "        vertical-align: middle;\n",
       "    }\n",
       "\n",
       "    .dataframe tbody tr th {\n",
       "        vertical-align: top;\n",
       "    }\n",
       "\n",
       "    .dataframe thead th {\n",
       "        text-align: right;\n",
       "    }\n",
       "</style>\n",
       "<table border=\"1\" class=\"dataframe\">\n",
       "  <thead>\n",
       "    <tr style=\"text-align: right;\">\n",
       "      <th></th>\n",
       "      <th>Unnamed: 0</th>\n",
       "      <th>Link</th>\n",
       "      <th>Source title</th>\n",
       "      <th>Index Keywords</th>\n",
       "      <th>Abstract</th>\n",
       "      <th>KDM</th>\n",
       "      <th>CAOT</th>\n",
       "      <th>SQM</th>\n",
       "      <th>SCA</th>\n",
       "      <th>Topic</th>\n",
       "    </tr>\n",
       "  </thead>\n",
       "  <tbody>\n",
       "    <tr>\n",
       "      <th>0</th>\n",
       "      <td>0</td>\n",
       "      <td>http://paulbourke.net/fractals/peterdejong/pet...</td>\n",
       "      <td>Computer recreations</td>\n",
       "      <td>zones; xsin; x; wrote; write</td>\n",
       "      <td>COMPUTER RECREATIONS Author s   A. K. Dewdney ...</td>\n",
       "      <td>0</td>\n",
       "      <td>-1000.000000</td>\n",
       "      <td>-1000</td>\n",
       "      <td>60</td>\n",
       "      <td>3</td>\n",
       "    </tr>\n",
       "    <tr>\n",
       "      <th>1</th>\n",
       "      <td>1</td>\n",
       "      <td>http://www.ivanpoupyrev.com/e-library/2004/CHI...</td>\n",
       "      <td>Gummi: a bendable computer</td>\n",
       "      <td>zooming; zoom; would; world; work</td>\n",
       "      <td>Gummi  A Bendable Computer  Carsten Schwesig  ...</td>\n",
       "      <td>0</td>\n",
       "      <td>5.122833</td>\n",
       "      <td>56</td>\n",
       "      <td>57</td>\n",
       "      <td>3</td>\n",
       "    </tr>\n",
       "    <tr>\n",
       "      <th>2</th>\n",
       "      <td>2</td>\n",
       "      <td>http://www.cs.cmu.edu/afs/cs/academic/class/15...</td>\n",
       "      <td>[BOOK][B] The design and analysis of computer ...</td>\n",
       "      <td>zs; z; would; working; words</td>\n",
       "      <td>THE  DESIGN  AND  ANALYSIS  OF  COMPUTER  ALGO...</td>\n",
       "      <td>0</td>\n",
       "      <td>774.245250</td>\n",
       "      <td>-32740</td>\n",
       "      <td>57</td>\n",
       "      <td>5</td>\n",
       "    </tr>\n",
       "    <tr>\n",
       "      <th>3</th>\n",
       "      <td>3</td>\n",
       "      <td>http://gordonbell.azurewebsites.net/tcmwebpage...</td>\n",
       "      <td>The illiac iv computer</td>\n",
       "      <td>zorz; zoro; zorn; zor; zerxta</td>\n",
       "      <td>Chapter 27  The ILLIAC IV computer 1  George H...</td>\n",
       "      <td>0</td>\n",
       "      <td>-1000.000000</td>\n",
       "      <td>-1000</td>\n",
       "      <td>55</td>\n",
       "      <td>3</td>\n",
       "    </tr>\n",
       "    <tr>\n",
       "      <th>4</th>\n",
       "      <td>4</td>\n",
       "      <td>http://wiki.cgt3d.cn/mediawiki/images/f/f7/Com...</td>\n",
       "      <td>[BOOK][B] Computer Systems</td>\n",
       "      <td>zp; zone; zombie; zhang; zf</td>\n",
       "      <td>third  global  edition Computer Systems A Prog...</td>\n",
       "      <td>0</td>\n",
       "      <td>-1000.000000</td>\n",
       "      <td>-1000</td>\n",
       "      <td>54</td>\n",
       "      <td>3</td>\n",
       "    </tr>\n",
       "  </tbody>\n",
       "</table>\n",
       "</div>"
      ],
      "text/plain": [
       "   Unnamed: 0                                               Link  \\\n",
       "0           0  http://paulbourke.net/fractals/peterdejong/pet...   \n",
       "1           1  http://www.ivanpoupyrev.com/e-library/2004/CHI...   \n",
       "2           2  http://www.cs.cmu.edu/afs/cs/academic/class/15...   \n",
       "3           3  http://gordonbell.azurewebsites.net/tcmwebpage...   \n",
       "4           4  http://wiki.cgt3d.cn/mediawiki/images/f/f7/Com...   \n",
       "\n",
       "                                        Source title  \\\n",
       "0                               Computer recreations   \n",
       "1                         Gummi: a bendable computer   \n",
       "2  [BOOK][B] The design and analysis of computer ...   \n",
       "3                             The illiac iv computer   \n",
       "4                         [BOOK][B] Computer Systems   \n",
       "\n",
       "                      Index Keywords  \\\n",
       "0       zones; xsin; x; wrote; write   \n",
       "1  zooming; zoom; would; world; work   \n",
       "2       zs; z; would; working; words   \n",
       "3      zorz; zoro; zorn; zor; zerxta   \n",
       "4        zp; zone; zombie; zhang; zf   \n",
       "\n",
       "                                            Abstract  KDM         CAOT    SQM  \\\n",
       "0  COMPUTER RECREATIONS Author s   A. K. Dewdney ...    0 -1000.000000  -1000   \n",
       "1  Gummi  A Bendable Computer  Carsten Schwesig  ...    0     5.122833     56   \n",
       "2  THE  DESIGN  AND  ANALYSIS  OF  COMPUTER  ALGO...    0   774.245250 -32740   \n",
       "3  Chapter 27  The ILLIAC IV computer 1  George H...    0 -1000.000000  -1000   \n",
       "4  third  global  edition Computer Systems A Prog...    0 -1000.000000  -1000   \n",
       "\n",
       "   SCA  Topic  \n",
       "0   60      3  \n",
       "1   57      3  \n",
       "2   57      5  \n",
       "3   55      3  \n",
       "4   54      3  "
      ]
     },
     "execution_count": 2,
     "metadata": {},
     "output_type": "execute_result"
    }
   ],
   "source": [
    "df.head()"
   ]
  },
  {
   "cell_type": "code",
   "execution_count": null,
   "metadata": {},
   "outputs": [],
   "source": []
  },
  {
   "cell_type": "code",
   "execution_count": 1,
   "metadata": {},
   "outputs": [
    {
     "name": "stderr",
     "output_type": "stream",
     "text": [
      "Using TensorFlow backend.\n",
      "c:\\users\\hp\\appdata\\local\\programs\\python\\python37\\lib\\site-packages\\flask_sqlalchemy\\__init__.py:834: FSADeprecationWarning: SQLALCHEMY_TRACK_MODIFICATIONS adds significant overhead and will be disabled by default in the future.  Set it to True or False to suppress this warning.\n",
      "  'SQLALCHEMY_TRACK_MODIFICATIONS adds significant overhead and '\n"
     ]
    }
   ],
   "source": [
    "from keras.models import Sequential\n",
    "from keras.layers import Dense\n",
    "from keras.layers import LSTM\n",
    "from sklearn.preprocessing import LabelEncoder\n",
    "import numpy as np\n",
    "import pandas as pd \n",
    "\n",
    "from app import db,User,Papers"
   ]
  },
  {
   "cell_type": "code",
   "execution_count": 2,
   "metadata": {},
   "outputs": [
    {
     "data": {
      "text/plain": [
       "18"
      ]
     },
     "execution_count": 2,
     "metadata": {},
     "output_type": "execute_result"
    }
   ],
   "source": [
    "user = 'aritra'\n",
    "\n",
    "papers = Papers.query.filter_by(UserID=user).all()\n",
    "len(papers)"
   ]
  },
  {
   "cell_type": "code",
   "execution_count": 3,
   "metadata": {},
   "outputs": [
    {
     "name": "stdout",
     "output_type": "stream",
     "text": [
      "(8, 10, 9)\n",
      "(8, 5)\n"
     ]
    }
   ],
   "source": [
    "inputs = 10\n",
    "Xin = []\n",
    "Yin = []\n",
    "for i in range(len(papers)-inputs):\n",
    "    Xi = []\n",
    "    for j in range(inputs):\n",
    "        X = [papers[i+j].KDM, papers[i+j].SCA, papers[i+j].SQM, papers[i+j].CAOT,0,0,0,0,0]\n",
    "        n = papers[i+j].topic\n",
    "        try:\n",
    "            X[3+n] = 1\n",
    "        except:\n",
    "            X[3+int.from_bytes(n,\"little\" )] = 1\n",
    "        Xi.append(X)\n",
    "    Xin.append(Xi)\n",
    "for i in range(inputs,len(papers)):\n",
    "    Yi = [0,0,0,0,0]\n",
    "    try:\n",
    "        Yi[papers[i].topic - 1] = 1\n",
    "    except:\n",
    "        Yi[int.from_bytes(papers[i].topic,\"little\" ) - 1] = 1\n",
    "    Yin.append(Yi)\n",
    "\n",
    "Yin = np.array(Yin)\n",
    "Xin = np.array(Xin)\n",
    "print(Xin.shape)\n",
    "print(Yin.shape)"
   ]
  },
  {
   "cell_type": "code",
   "execution_count": 4,
   "metadata": {},
   "outputs": [
    {
     "name": "stdout",
     "output_type": "stream",
     "text": [
      "Model: \"sequential_1\"\n",
      "_________________________________________________________________\n",
      "Layer (type)                 Output Shape              Param #   \n",
      "=================================================================\n",
      "lstm_1 (LSTM)                (None, 10, 50)            12000     \n",
      "_________________________________________________________________\n",
      "lstm_2 (LSTM)                (None, 10)                2440      \n",
      "_________________________________________________________________\n",
      "dense_1 (Dense)              (None, 5)                 55        \n",
      "=================================================================\n",
      "Total params: 14,495\n",
      "Trainable params: 14,495\n",
      "Non-trainable params: 0\n",
      "_________________________________________________________________\n"
     ]
    }
   ],
   "source": [
    "model = Sequential()\n",
    "model.add(LSTM(50,return_sequences=True, input_shape=(Xin.shape[1], Xin.shape[2])))\n",
    "model.add(LSTM(10,return_sequences=False))\n",
    "model.add(Dense(5,activation='softmax'))\n",
    "model.compile(loss='categorical_crossentropy', optimizer='adam',metrics=['accuracy'])\n",
    "model.summary()"
   ]
  },
  {
   "cell_type": "code",
   "execution_count": 5,
   "metadata": {},
   "outputs": [
    {
     "name": "stdout",
     "output_type": "stream",
     "text": [
      "Epoch 1/5\n",
      "8/8 [==============================] - 2s 207ms/step - loss: 1.6017 - accuracy: 0.1250\n",
      "Epoch 2/5\n",
      "8/8 [==============================] - 0s 749us/step - loss: 1.5583 - accuracy: 0.3750\n",
      "Epoch 3/5\n",
      "8/8 [==============================] - 0s 925us/step - loss: 1.5231 - accuracy: 0.5000\n",
      "Epoch 4/5\n",
      "8/8 [==============================] - 0s 997us/step - loss: 1.4947 - accuracy: 0.5000\n",
      "Epoch 5/5\n",
      "8/8 [==============================] - 0s 997us/step - loss: 1.4691 - accuracy: 0.6250\n"
     ]
    },
    {
     "data": {
      "text/plain": [
       "<keras.callbacks.callbacks.History at 0x1dade797d30>"
      ]
     },
     "execution_count": 5,
     "metadata": {},
     "output_type": "execute_result"
    }
   ],
   "source": [
    "model.fit(Xin, Yin, epochs = 5, shuffle=False,)"
   ]
  },
  {
   "cell_type": "code",
   "execution_count": 11,
   "metadata": {},
   "outputs": [],
   "source": [
    "final = np.argsort((-model.predict(Xin[-1].reshape(1,inputs,Xin.shape[2]))))[0][:2] + 1"
   ]
  },
  {
   "cell_type": "code",
   "execution_count": 14,
   "metadata": {},
   "outputs": [
    {
     "data": {
      "text/plain": [
       "array([3, 4], dtype=int64)"
      ]
     },
     "execution_count": 14,
     "metadata": {},
     "output_type": "execute_result"
    }
   ],
   "source": [
    "final"
   ]
  },
  {
   "cell_type": "code",
   "execution_count": 22,
   "metadata": {},
   "outputs": [
    {
     "data": {
      "text/plain": [
       "5"
      ]
     },
     "execution_count": 22,
     "metadata": {},
     "output_type": "execute_result"
    }
   ],
   "source": []
  },
  {
   "cell_type": "code",
   "execution_count": null,
   "metadata": {},
   "outputs": [],
   "source": []
  }
 ],
 "metadata": {
  "kernelspec": {
   "name": "python373jvsc74a57bd060eb1d0f96393a1e0420bb6ca0f5435a81d9c3ff4319ce3c90a222065ab89d85",
   "display_name": "Python 3.7.3 64-bit"
  },
  "language_info": {
   "codemirror_mode": {
    "name": "ipython",
    "version": 3
   },
   "file_extension": ".py",
   "mimetype": "text/x-python",
   "name": "python",
   "nbconvert_exporter": "python",
   "pygments_lexer": "ipython3",
   "version": "3.7.3"
  }
 },
 "nbformat": 4,
 "nbformat_minor": 2
}