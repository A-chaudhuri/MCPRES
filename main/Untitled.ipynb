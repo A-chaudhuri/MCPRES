{
 "cells": [
  {
   "cell_type": "code",
   "execution_count": 2,
   "metadata": {},
   "outputs": [],
   "source": [
    "import math\n",
    "import pandas as pd\n",
    "import requests\n",
    "from bs4 import BeautifulSoup\n",
    "from selenium import webdriver\n",
    "import time\n",
    "#from selenium.webdriver import browser\n",
    "from selenium.common.exceptions import NoSuchElementException\n",
    "from selenium.webdriver.common.keys import Keys\n",
    "from difflib import SequenceMatcher\n",
    "import datetime\n",
    "from selenium.webdriver.firefox.options import Options\n",
    "from sklearn.naive_bayes import MultinomialNB\n",
    "from sklearn.metrics import classification_report\n",
    "#get_ipython().magic('matplotlib inline')\n",
    "\n",
    "\n",
    "# In[3]:\n",
    "\n",
    "#The name of the csv file to be opened\n",
    "#readDataFileLoc = \"scopus_2000_Citation.csv\"\n",
    "\n",
    "\n",
    "# In[4]:\n",
    "\n",
    "#Reading the csv file and doing the required preprocessing\n",
    "#It takes only the required columns - Authors, Title, Year, Cited by\n",
    "#Removing the rows i.e. papers whose citations are 0\n",
    "citationDataset = pd.read_csv(\"data.csv\",)\n",
    "df = pd.read_csv(\"data.csv\",)\n",
    "#citationDataset=citationDataset1.iloc[:10,:]\n",
    "citationDataset.head()\n",
    "#newCitationDataset = citationDataset[['Authors', 'Title', 'Year', 'Cited by']]\n",
    "#print(newCitationDataset.head())\n",
    "#finalCitationDataset = newCitationDataset[pd.notnull(newCitationDataset['Cited by'])]\n",
    "#listCitationData = finalCitationDataset.values\n",
    "#print(len(listCitationData))\n",
    "#print(finalCitationDataset)\n",
    "\n",
    "\n",
    "# In[9]:\n",
    "\n",
    "def getScholarSearchResult(browser, queryToSearch):\n",
    "    \"\"\"\n",
    "    To type the query in the google scholar search bar and search it\n",
    "\n",
    "    Args:\n",
    "        browser: An open browser using selenium(preferably firefox)\n",
    "        queryToSearch: A string which has to be searched in the google scholar\n",
    "\n",
    "    Returns:\n",
    "        browser(no need actually)\n",
    "    \"\"\"\n",
    "    scholarSearchBar = browser.find_element_by_name(\"q\")\n",
    "    scholarSearchBar.send_keys(queryToSearch)\n",
    "    scholarSearchBar.submit()\n",
    "    return browser\n",
    "\n",
    "def searchScholarResults(browser, queryToSearch):\n",
    "    \"\"\"\n",
    "    To type the query in the google scholar search bar and search it\n",
    "\n",
    "    Args:\n",
    "        browser: An open browser using selenium(preferably firefox)\n",
    "        queryToSearch: A string which has to be searched in the google scholar\n",
    "\n",
    "    Returns:\n",
    "        Nothing\n",
    "    \"\"\"\n",
    "    scholarSearchBar = browser.find_element_by_name(\"q\")\n",
    "    scholarSearchBar.send_keys(queryToSearch)\n",
    "    scholarSearchBar.submit()\n",
    "    return\n",
    "\n",
    "def customSimilarityChecker(listpapers, paperTitle):\n",
    "    \"\"\"\n",
    "    A basic similarity checker which compares all the Names of paper displayed by the Scholar with the desired paper and clicks the link of the paper\n",
    "\n",
    "    Args:\n",
    "        listpapers: HTML listofpapers which contain the Title of the papers\n",
    "        paperTitle: Title of the paper which we are searching\n",
    "\n",
    "    Returns:\n",
    "        Nothing\n",
    "    \"\"\"\n",
    "    index = 0\n",
    "    maxDiff = SequenceMatcher(None, listpapers[0].text, paperTitle).ratio()\n",
    "    #print(maxDiff)\n",
    "    for x in range(0, len(listpapers)):\n",
    "        temp = SequenceMatcher(None, listpapers[x].text, paperTitle).ratio()\n",
    "        if temp > maxDiff:\n",
    "            index = x\n",
    "            maxDiff = temp\n",
    "    listpapers[index].click()\n",
    "    return\n",
    "\n",
    "def getYearCitationInformation(browser):\n",
    "    \"\"\"\n",
    "    Calling this function will return an 1-d array containing pairs of year and citations in that year of the paper\n",
    "    Takes the open page of the paper in Google Scholar as input\n",
    "\n",
    "    Args:\n",
    "        browser: An open browser using selenium(preferably firefox)\n",
    "\n",
    "    Returns:\n",
    "        A 1-d array containing pairs of year and citations in that year of the paper\n",
    "    \"\"\"\n",
    "    answer = []\n",
    "    try:\n",
    "        idBars = browser.find_element_by_id('gsc_vcd_graph_bars')\n",
    "    except Exception:\n",
    "        return answer\n",
    "    barsList = idBars.find_elements_by_tag_name('a')\n",
    "    lengthBars = len(barsList)\n",
    "    listOfBarsYear = idBars.find_elements_by_class_name('gsc_vcd_g_t')\n",
    "    for i in range(0, lengthBars):\n",
    "        answer.append([(barsList[lengthBars - i - 1].find_elements_by_tag_name('span'))[0].get_attribute('textContent'),\n",
    "                       listOfBarsYear[lengthBars - i - 1].text])\n",
    "    \n",
    "    return answer\n",
    "\n",
    "#This function will click the more button repeteadly to display all the research papers published by a person on the page\n",
    "def correctClickMoreButton(browser):\n",
    "    \"\"\"\n",
    "\n",
    "    Args:\n",
    "        browser: \n",
    "\n",
    "    :return:\n",
    "    \"\"\"\n",
    "    return\n",
    "\n",
    "def searchChooseCitationInfo(browser, queryToSearch, paperTitle):\n",
    "    \"\"\"\n",
    "    Calling this function will return an 1-d array containing pairs of year and citations in that year of the paper,\n",
    "     taking only an open browser as input\n",
    "    :param browser: An open browser using selenium(preferably firefox)\n",
    "    :param queryToSearch: The text query which we are going to search in the google scholar\n",
    "    :param paperTitle: Title of the paper which we are searching\n",
    "    :return: A 1-d array containing pairs of year and citations in that year of the paper\n",
    "    \"\"\"\n",
    "    browser.get(\"https://scholar.google.com/\")\n",
    "    scholarSearchBar = browser.find_element_by_name(\"q\")\n",
    "    scholarSearchBar.send_keys(queryToSearch)\n",
    "    scholarSearchBar.submit()\n",
    "    #tempList = browser.find_elements_by_class_name(\"gs_a\")\n",
    "    #tempList2 = tempList[0].find_elements_by_tag_name('a')\n",
    "    #tempList2[0].click()\n",
    "    time.sleep(5)\n",
    "    ((browser.find_elements_by_class_name(\"gs_a\"))[0].find_elements_by_tag_name('a'))[0].click()\n",
    "    time.sleep(5)\n",
    "    correctClickMoreButton(browser)\n",
    "    listpapers = browser.find_elements_by_class_name('gsc_a_at')\n",
    "    customSimilarityChecker(listpapers, paperTitle)\n",
    "    time.sleep(5)\n",
    "    return getYearCitationInformation(browser)\n",
    "\n",
    "\n",
    "\n",
    "\n",
    "def writeListCitationToCsv(fileName, answer, listCitationData, score):\n",
    "    \"\"\"\n",
    "    Writes the citation data to the csv file\n",
    "\n",
    "    Args:\n",
    "        fileName: name of the file to which data has to be written\n",
    "        answer: citation data for each paper with respect to time\n",
    "        listCitationData: consist of related data of each paper\n",
    "        score: score for each paper\n",
    "\n",
    "    Returns:\n",
    "        Nothing\n",
    "    \"\"\"\n",
    "    max = 0\n",
    "    now = datetime.datetime.now()\n",
    "    start = int(now.year)\n",
    "    i = 0\n",
    "    for i in range(0, len(answer)):\n",
    "        if len(answer[i]) > 0:\n",
    "            t = start - int(answer[i][0][1]) + len(answer[i])\n",
    "        else:\n",
    "            t = len(answer[i])\n",
    "        if t > max:\n",
    "            max = t\n",
    "    f = open(fileName, 'w+')\n",
    "    csvout = csv.writer(f)\n",
    "    row = []\n",
    "    row.extend(['Authors', 'Title', 'Year',\n",
    "                'Cited by', 'Cited by updated', 'Last Citation Year', 'Score'])\n",
    "    rowInitData = len(row)\n",
    "    for i in range(0, max):\n",
    "        row.extend([start - i])\n",
    "    end = start - max + 1\n",
    "    csvout.writerow(row)\n",
    "    for i in range(0, len(answer)):\n",
    "        row = []\n",
    "        sum = 0\n",
    "        for m in range(0, len(answer[i])):\n",
    "            sum = sum + int(answer[i][m][0])\n",
    "        if len(answer[i]) > 0:\n",
    "            row.extend([listCitationData[i][0], listCitationData[i][1], listCitationData[i][2]\n",
    "                           , listCitationData[i][3], sum, answer[i][len(answer[i]) - 1][1], score[i]])\n",
    "        else:\n",
    "            row.extend([listCitationData[i][0], listCitationData[i][1], listCitationData[i][2]\n",
    "                           , listCitationData[i][3], 0, -1, score[i]])\n",
    "        j = 0\n",
    "        k = start\n",
    "        while ((j < len(answer[i])) and (k >= end)):\n",
    "            if (int(answer[i][j][1]) == k):\n",
    "                row.extend([answer[i][j][0]])\n",
    "                j = j + 1\n",
    "            else:\n",
    "                row.extend([0])\n",
    "            k = k - 1\n",
    "        incompIter = max - len(row) + rowInitData\n",
    "        for l in range(0, incompIter):\n",
    "            row.extend([0])\n",
    "        csvout.writerow(row)\n",
    "    return\n",
    "\n",
    "\n",
    "# In[6]:\n",
    "\n",
    "#Opening the browser\n",
    "#self.driver = webdriver.Firefox()\n",
    "#opts = webdriver.chrome.options.Options()\n",
    "#opts.set_headless()\n",
    "#assert opts.headless\n",
    "browser = webdriver.Chrome(\"chromedriver.exe\")\n",
    "#browser = webdriver.Chrome(options=opts)\n",
    "browser.get(\"https://scholar.google.com/\")\n",
    "\n",
    "# In[7]:\n",
    "\n",
    "#Collect the data\n",
    "answer = []\n",
    "for i in range(0, len(df)):\n",
    "    paperTitle = df[\"Source title\"][i]\n",
    "    \n",
    "    #paperAuthor = listCitationData[i][0]\n",
    "    try:\n",
    "        answer.append(searchChooseCitationInfo(browser, paperTitle , paperTitle))\n",
    "    except Exception:\n",
    "        answer.append([])\n",
    "    #print(i)\n",
    "browser.quit()"
   ]
  },
  {
   "cell_type": "code",
   "execution_count": 4,
   "metadata": {},
   "outputs": [
    {
     "output_type": "execute_result",
     "data": {
      "text/plain": [
       "[['2', '2021'],\n",
       " ['11', '2020'],\n",
       " ['11', '2019'],\n",
       " ['8', '2018'],\n",
       " ['17', '2017'],\n",
       " ['19', '2016'],\n",
       " ['21', '2015'],\n",
       " ['28', '2014'],\n",
       " ['34', '2013'],\n",
       " ['25', '2012'],\n",
       " ['18', '2011'],\n",
       " ['14', '2010'],\n",
       " ['15', '2009'],\n",
       " ['10', '2008'],\n",
       " ['4', '2007'],\n",
       " ['5', '2006'],\n",
       " ['7', '2005'],\n",
       " ['2', '2004']]"
      ]
     },
     "metadata": {},
     "execution_count": 4
    }
   ],
   "source": [
    "(barsList[lengthBars - i - 1].find_elements_by_tag_name('span'))[0].get_attribute('textContent')\n",
    "answer[1]"
   ]
  },
  {
   "cell_type": "code",
   "execution_count": null,
   "metadata": {},
   "outputs": [],
   "source": []
  },
  {
   "cell_type": "code",
   "execution_count": null,
   "metadata": {},
   "outputs": [],
   "source": []
  },
  {
   "cell_type": "code",
   "execution_count": null,
   "metadata": {},
   "outputs": [],
   "source": []
  },
  {
   "cell_type": "code",
   "execution_count": 1,
   "metadata": {},
   "outputs": [],
   "source": [
    "import mysql.connector\n",
    "db = mysql.connector.connect(\n",
    "  host=\"localhost\",\n",
    "  user=\"root\",\n",
    "  password=\"\",\n",
    "  database='db'\n",
    ")"
   ]
  },
  {
   "cell_type": "code",
   "execution_count": 3,
   "metadata": {},
   "outputs": [],
   "source": [
    "cursor = db.cursor()\n",
    "\n",
    "query = (\"SELECT * FROM users\")\n",
    "cursor.execute(query)"
   ]
  },
  {
   "cell_type": "code",
   "execution_count": 42,
   "metadata": {},
   "outputs": [
    {
     "name": "stdout",
     "output_type": "stream",
     "text": [
      "1\n",
      "aritra\n",
      "aritrashome.shome8@gmail.com\n",
      "1\n",
      "3\n",
      "xyz\n",
      "xyz@gmail.com\n",
      "1\n"
     ]
    },
    {
     "data": {
      "text/plain": [
       "True"
      ]
     },
     "execution_count": 42,
     "metadata": {},
     "output_type": "execute_result"
    }
   ],
   "source": [
    "db = mysql.connector.connect(\n",
    "  host=\"localhost\",\n",
    "  user=\"root\",\n",
    "  password=\"\",\n",
    "  database='db'\n",
    ")\n",
    "cursor = db.cursor()\n",
    "query = (\"SELECT * FROM users\")\n",
    "cursor.execute(query)\n",
    "for (id, UserID, Email, Password) in cursor:\n",
    "    print(id)\n",
    "    print(UserID)\n",
    "    print(Email)\n",
    "    print(Password)\n",
    "cursor.close()"
   ]
  },
  {
   "cell_type": "code",
   "execution_count": 70,
   "metadata": {},
   "outputs": [],
   "source": [
    "SCA = 60"
   ]
  },
  {
   "cell_type": "code",
   "execution_count": 71,
   "metadata": {},
   "outputs": [
    {
     "data": {
      "text/plain": [
       "\"INSERT INTO `papers` (`id`, `title`, `UserID`, `KDM`, `CAOT`, `SQM`, `SCA`, `topic`, `time`) VALUES (NULL, 'Computer recreations','aritra', '0','-1000.0','-1000','60','3', current_timestamp());\""
      ]
     },
     "execution_count": 71,
     "metadata": {},
     "output_type": "execute_result"
    }
   ],
   "source": [
    "import pandas as pd\n",
    "#df = pd.read_csv('main/data.csv')\n",
    "userid = 'aritra'\n",
    "\"INSERT INTO `papers` (`id`, `title`, `UserID`, `KDM`, `CAOT`, `SQM`, `SCA`, `topic`, `time`) VALUES (NULL, '\"+title+\"','\"+UserID+\"', '\"+str(KDM)+\"','\"+str(CAOT)+\"','\"+str(SQM)+\"','\"+str(SCA)+\"','\"+str(topic)+\"', current_timestamp());\""
   ]
  },
  {
   "cell_type": "code",
   "execution_count": 72,
   "metadata": {},
   "outputs": [
    {
     "data": {
      "text/plain": [
       "True"
      ]
     },
     "execution_count": 72,
     "metadata": {},
     "output_type": "execute_result"
    }
   ],
   "source": [
    "################### READ ###################\n",
    "i=0\n",
    "title =df['Source title'][i] \n",
    "UserID=userid\n",
    "KDM=df['KDM'][i] \n",
    "CAOT=df['CAOT'][i]\n",
    "SQM=df['SQM'][i]\n",
    "SCA=df['SCA'][i]\n",
    "topic=df['Topic'][i]\n",
    "\n",
    "db = mysql.connector.connect(\n",
    "  host=\"localhost\",\n",
    "  user=\"root\",\n",
    "  password=\"\",\n",
    "  database='db'\n",
    ")\n",
    "cursor = db.cursor()\n",
    "sql = (\"INSERT INTO `papers` (`id`, `title`, `UserID`, `KDM`, `CAOT`, `SQM`, `SCA`, `topic`, `time`) VALUES (NULL, '\"+title+\"','\"+UserID+\"', '\"+str(KDM)+\"','\"+str(CAOT)+\"','\"+str(SQM)+\"','\"+str(SCA)+\"','\"+str(topic)+\"', current_timestamp());\")\n",
    "#val = (title, UserID, KDM, CAOT, SQM, SCA, topic)\n",
    "cursor.execute(sql)\n",
    "db.commit()\n",
    "cursor.close()\n",
    "#print(title)"
   ]
  },
  {
   "cell_type": "code",
   "execution_count": 55,
   "metadata": {},
   "outputs": [
    {
     "data": {
      "text/plain": [
       "[(1,\n",
       "  'Computers',\n",
       "  'aritra',\n",
       "  11.0,\n",
       "  5.0,\n",
       "  51.0,\n",
       "  23.0,\n",
       "  1,\n",
       "  datetime.datetime(2021, 5, 16, 20, 18, 5))]"
      ]
     },
     "execution_count": 55,
     "metadata": {},
     "output_type": "execute_result"
    }
   ],
   "source": [
    "################## SEARCH ##########################\n",
    "userid = 'aritra'\n",
    "db = mysql.connector.connect(\n",
    "  host=\"localhost\",\n",
    "  user=\"root\",\n",
    "  password=\"\",\n",
    "  database='db'\n",
    ")\n",
    "cursor = db.cursor()\n",
    "sql = (\"SELECT * FROM papers WHERE UserID='\"+str(userid)+\"'\")\n",
    "cursor.execute(sql)\n",
    "res = cursor.fetchall()\n",
    "#for i in range(len(res)):\n",
    "cursor.close()\n",
    "res"
   ]
  },
  {
   "cell_type": "code",
   "execution_count": 58,
   "metadata": {},
   "outputs": [
    {
     "data": {
      "text/plain": [
       "'Computers'"
      ]
     },
     "execution_count": 58,
     "metadata": {},
     "output_type": "execute_result"
    }
   ],
   "source": [
    "res[0][1]"
   ]
  },
  {
   "cell_type": "code",
   "execution_count": 46,
   "metadata": {},
   "outputs": [
    {
     "name": "stdout",
     "output_type": "stream",
     "text": [
      "14\n"
     ]
    }
   ],
   "source": [
    "###################### Login ###############################\n",
    "userid = 'x'\n",
    "password = '1'\n",
    "db = mysql.connector.connect(\n",
    "  host=\"localhost\",\n",
    "  user=\"root\",\n",
    "  password=\"\",\n",
    "  database='db'\n",
    ")\n",
    "cursor = db.cursor()\n",
    "query = (\"SELECT * FROM users WHERE UserID='\"+str(userid)+\"'\")\n",
    "cursor.execute(query)\n",
    "\n",
    "res = cursor.fetchall()\n",
    "if(len(res)==0): \n",
    "    print('wrong user')\n",
    "    \n",
    "\n",
    "elif(res[0][3]!=password):\n",
    "    print('wrong pass')\n",
    "else: print(id)\n",
    "\n",
    "cursor.close()"
   ]
  },
  {
   "cell_type": "code",
   "execution_count": null,
   "metadata": {},
   "outputs": [],
   "source": []
  },
  {
   "cell_type": "code",
   "execution_count": 74,
   "metadata": {},
   "outputs": [
    {
     "data": {
      "text/plain": [
       "True"
      ]
     },
     "execution_count": 74,
     "metadata": {},
     "output_type": "execute_result"
    }
   ],
   "source": [
    "######################## Register ##############################\n",
    "userid = 'x1'\n",
    "email = 'x1@abcd.com'\n",
    "password = '1'\n",
    "\n",
    "db = mysql.connector.connect(\n",
    "  host=\"localhost\",\n",
    "  user=\"root\",\n",
    "  password=\"\",\n",
    "  database='db'\n",
    ")\n",
    "cursor = db.cursor()\n",
    "sql = (\"SELECT * FROM users WHERE UserID='\"+str(userid)+\"'\")\n",
    "cursor.execute(sql)\n",
    "res = cursor.fetchall()\n",
    "if(len(res)!=0): \n",
    "    print('Already user')\n",
    "    \n",
    "else:\n",
    "    insert = (\"INSERT INTO `users` (`id`, `UserID`, `email`, `password`) VALUES (NULL, '\"+userid+\"', '\"+email+\"', '\"+password+\"');\")\n",
    "    cursor.execute(insert)\n",
    "    db.commit()\n",
    "cursor.close()"
   ]
  },
  {
   "cell_type": "code",
   "execution_count": 28,
   "metadata": {},
   "outputs": [
    {
     "data": {
      "text/plain": [
       "True"
      ]
     },
     "execution_count": 28,
     "metadata": {},
     "output_type": "execute_result"
    }
   ],
   "source": [
    "#Register\n",
    "db = mysql.connector.connect(\n",
    "  host=\"localhost\",\n",
    "  user=\"root\",\n",
    "  password=\"\",\n",
    "  database='db'\n",
    ")\n",
    "cursor = db.cursor()\n",
    "insert = (\"INSERT INTO `users` (`id`, `UserID`, `email`, `password`) VALUES (NULL, %s, %s, %s);\")\n",
    "cursor.execute(insert,(UserID,email,password))\n",
    "\n",
    "cursor.close()"
   ]
  },
  {
   "cell_type": "code",
   "execution_count": null,
   "metadata": {},
   "outputs": [],
   "source": []
  },
  {
   "cell_type": "code",
   "execution_count": null,
   "metadata": {},
   "outputs": [],
   "source": []
  },
  {
   "cell_type": "code",
   "execution_count": null,
   "metadata": {},
   "outputs": [],
   "source": []
  },
  {
   "cell_type": "code",
   "execution_count": 19,
   "metadata": {},
   "outputs": [],
   "source": [
    "from __future__ import print_function\n",
    "import numpy as np\n",
    "from itertools import combinations, permutations\n",
    "import pandas as pd\n",
    "\n",
    "df = pd.read_csv('main/data.csv')\n",
    "ranks = [df['CAOT'],df['SQM']]"
   ]
  },
  {
   "cell_type": "code",
   "execution_count": 20,
   "metadata": {},
   "outputs": [],
   "source": [
    "def kendalltau_dist(rank_a, rank_b):\n",
    "    tau = 0\n",
    "    n_candidates = len(rank_a)\n",
    "    for i, j in combinations(range(n_candidates), 2):\n",
    "        tau += (np.sign(rank_a[i] - rank_a[j]) ==\n",
    "                -np.sign(rank_b[i] - rank_b[j]))\n",
    "    return tau\n",
    "def rankaggr_brute(ranks):\n",
    "    min_dist = np.inf\n",
    "    best_rank = None\n",
    "    n_voters, n_candidates = ranks.shape\n",
    "    for candidate_rank in permutations(range(n_candidates)):\n",
    "        dist = np.sum(kendalltau_dist(candidate_rank, rank) for rank in ranks)\n",
    "        if dist < min_dist:\n",
    "            min_dist = dist\n",
    "            best_rank = candidate_rank\n",
    "    return best_rank"
   ]
  },
  {
   "cell_type": "code",
   "execution_count": 21,
   "metadata": {},
   "outputs": [
    {
     "data": {
      "text/plain": [
       "(2, 11)"
      ]
     },
     "execution_count": 21,
     "metadata": {},
     "output_type": "execute_result"
    }
   ],
   "source": [
    "np.array(ranks).shape"
   ]
  },
  {
   "cell_type": "code",
   "execution_count": 22,
   "metadata": {},
   "outputs": [
    {
     "name": "stderr",
     "output_type": "stream",
     "text": [
      "c:\\users\\hp\\appdata\\local\\programs\\python\\python37\\lib\\site-packages\\ipykernel_launcher.py:13: DeprecationWarning: Calling np.sum(generator) is deprecated, and in the future will give a different result. Use np.sum(np.fromiter(generator)) or the python sum builtin instead.\n",
      "  del sys.path[0]\n"
     ]
    },
    {
     "ename": "KeyboardInterrupt",
     "evalue": "",
     "output_type": "error",
     "traceback": [
      "\u001b[1;31m---------------------------------------------------------------------------\u001b[0m",
      "\u001b[1;31mKeyboardInterrupt\u001b[0m                         Traceback (most recent call last)",
      "\u001b[1;32m<ipython-input-22-04bbe3c7f003>\u001b[0m in \u001b[0;36m<module>\u001b[1;34m\u001b[0m\n\u001b[1;32m----> 1\u001b[1;33m \u001b[0maggr\u001b[0m \u001b[1;33m=\u001b[0m \u001b[0mrankaggr_brute\u001b[0m\u001b[1;33m(\u001b[0m\u001b[0mnp\u001b[0m\u001b[1;33m.\u001b[0m\u001b[0marray\u001b[0m\u001b[1;33m(\u001b[0m\u001b[0mranks\u001b[0m\u001b[1;33m)\u001b[0m\u001b[1;33m)\u001b[0m\u001b[1;33m\u001b[0m\u001b[1;33m\u001b[0m\u001b[0m\n\u001b[0m",
      "\u001b[1;32m<ipython-input-20-c1e4dbbed63c>\u001b[0m in \u001b[0;36mrankaggr_brute\u001b[1;34m(ranks)\u001b[0m\n\u001b[0;32m     11\u001b[0m     \u001b[0mn_voters\u001b[0m\u001b[1;33m,\u001b[0m \u001b[0mn_candidates\u001b[0m \u001b[1;33m=\u001b[0m \u001b[0mranks\u001b[0m\u001b[1;33m.\u001b[0m\u001b[0mshape\u001b[0m\u001b[1;33m\u001b[0m\u001b[1;33m\u001b[0m\u001b[0m\n\u001b[0;32m     12\u001b[0m     \u001b[1;32mfor\u001b[0m \u001b[0mcandidate_rank\u001b[0m \u001b[1;32min\u001b[0m \u001b[0mpermutations\u001b[0m\u001b[1;33m(\u001b[0m\u001b[0mrange\u001b[0m\u001b[1;33m(\u001b[0m\u001b[0mn_candidates\u001b[0m\u001b[1;33m)\u001b[0m\u001b[1;33m)\u001b[0m\u001b[1;33m:\u001b[0m\u001b[1;33m\u001b[0m\u001b[1;33m\u001b[0m\u001b[0m\n\u001b[1;32m---> 13\u001b[1;33m         \u001b[0mdist\u001b[0m \u001b[1;33m=\u001b[0m \u001b[0mnp\u001b[0m\u001b[1;33m.\u001b[0m\u001b[0msum\u001b[0m\u001b[1;33m(\u001b[0m\u001b[0mkendalltau_dist\u001b[0m\u001b[1;33m(\u001b[0m\u001b[0mcandidate_rank\u001b[0m\u001b[1;33m,\u001b[0m \u001b[0mrank\u001b[0m\u001b[1;33m)\u001b[0m \u001b[1;32mfor\u001b[0m \u001b[0mrank\u001b[0m \u001b[1;32min\u001b[0m \u001b[0mranks\u001b[0m\u001b[1;33m)\u001b[0m\u001b[1;33m\u001b[0m\u001b[1;33m\u001b[0m\u001b[0m\n\u001b[0m\u001b[0;32m     14\u001b[0m         \u001b[1;32mif\u001b[0m \u001b[0mdist\u001b[0m \u001b[1;33m<\u001b[0m \u001b[0mmin_dist\u001b[0m\u001b[1;33m:\u001b[0m\u001b[1;33m\u001b[0m\u001b[1;33m\u001b[0m\u001b[0m\n\u001b[0;32m     15\u001b[0m             \u001b[0mmin_dist\u001b[0m \u001b[1;33m=\u001b[0m \u001b[0mdist\u001b[0m\u001b[1;33m\u001b[0m\u001b[1;33m\u001b[0m\u001b[0m\n",
      "\u001b[1;32m<__array_function__ internals>\u001b[0m in \u001b[0;36msum\u001b[1;34m(*args, **kwargs)\u001b[0m\n",
      "\u001b[1;32mc:\\users\\hp\\appdata\\local\\programs\\python\\python37\\lib\\site-packages\\numpy\\core\\fromnumeric.py\u001b[0m in \u001b[0;36msum\u001b[1;34m(a, axis, dtype, out, keepdims, initial, where)\u001b[0m\n\u001b[0;32m   2233\u001b[0m             DeprecationWarning, stacklevel=3)\n\u001b[0;32m   2234\u001b[0m \u001b[1;33m\u001b[0m\u001b[0m\n\u001b[1;32m-> 2235\u001b[1;33m         \u001b[0mres\u001b[0m \u001b[1;33m=\u001b[0m \u001b[0m_sum_\u001b[0m\u001b[1;33m(\u001b[0m\u001b[0ma\u001b[0m\u001b[1;33m)\u001b[0m\u001b[1;33m\u001b[0m\u001b[1;33m\u001b[0m\u001b[0m\n\u001b[0m\u001b[0;32m   2236\u001b[0m         \u001b[1;32mif\u001b[0m \u001b[0mout\u001b[0m \u001b[1;32mis\u001b[0m \u001b[1;32mnot\u001b[0m \u001b[1;32mNone\u001b[0m\u001b[1;33m:\u001b[0m\u001b[1;33m\u001b[0m\u001b[1;33m\u001b[0m\u001b[0m\n\u001b[0;32m   2237\u001b[0m             \u001b[0mout\u001b[0m\u001b[1;33m[\u001b[0m\u001b[1;33m...\u001b[0m\u001b[1;33m]\u001b[0m \u001b[1;33m=\u001b[0m \u001b[0mres\u001b[0m\u001b[1;33m\u001b[0m\u001b[1;33m\u001b[0m\u001b[0m\n",
      "\u001b[1;32m<ipython-input-20-c1e4dbbed63c>\u001b[0m in \u001b[0;36m<genexpr>\u001b[1;34m(.0)\u001b[0m\n\u001b[0;32m     11\u001b[0m     \u001b[0mn_voters\u001b[0m\u001b[1;33m,\u001b[0m \u001b[0mn_candidates\u001b[0m \u001b[1;33m=\u001b[0m \u001b[0mranks\u001b[0m\u001b[1;33m.\u001b[0m\u001b[0mshape\u001b[0m\u001b[1;33m\u001b[0m\u001b[1;33m\u001b[0m\u001b[0m\n\u001b[0;32m     12\u001b[0m     \u001b[1;32mfor\u001b[0m \u001b[0mcandidate_rank\u001b[0m \u001b[1;32min\u001b[0m \u001b[0mpermutations\u001b[0m\u001b[1;33m(\u001b[0m\u001b[0mrange\u001b[0m\u001b[1;33m(\u001b[0m\u001b[0mn_candidates\u001b[0m\u001b[1;33m)\u001b[0m\u001b[1;33m)\u001b[0m\u001b[1;33m:\u001b[0m\u001b[1;33m\u001b[0m\u001b[1;33m\u001b[0m\u001b[0m\n\u001b[1;32m---> 13\u001b[1;33m         \u001b[0mdist\u001b[0m \u001b[1;33m=\u001b[0m \u001b[0mnp\u001b[0m\u001b[1;33m.\u001b[0m\u001b[0msum\u001b[0m\u001b[1;33m(\u001b[0m\u001b[0mkendalltau_dist\u001b[0m\u001b[1;33m(\u001b[0m\u001b[0mcandidate_rank\u001b[0m\u001b[1;33m,\u001b[0m \u001b[0mrank\u001b[0m\u001b[1;33m)\u001b[0m \u001b[1;32mfor\u001b[0m \u001b[0mrank\u001b[0m \u001b[1;32min\u001b[0m \u001b[0mranks\u001b[0m\u001b[1;33m)\u001b[0m\u001b[1;33m\u001b[0m\u001b[1;33m\u001b[0m\u001b[0m\n\u001b[0m\u001b[0;32m     14\u001b[0m         \u001b[1;32mif\u001b[0m \u001b[0mdist\u001b[0m \u001b[1;33m<\u001b[0m \u001b[0mmin_dist\u001b[0m\u001b[1;33m:\u001b[0m\u001b[1;33m\u001b[0m\u001b[1;33m\u001b[0m\u001b[0m\n\u001b[0;32m     15\u001b[0m             \u001b[0mmin_dist\u001b[0m \u001b[1;33m=\u001b[0m \u001b[0mdist\u001b[0m\u001b[1;33m\u001b[0m\u001b[1;33m\u001b[0m\u001b[0m\n",
      "\u001b[1;32m<ipython-input-20-c1e4dbbed63c>\u001b[0m in \u001b[0;36mkendalltau_dist\u001b[1;34m(rank_a, rank_b)\u001b[0m\n\u001b[0;32m      4\u001b[0m     \u001b[1;32mfor\u001b[0m \u001b[0mi\u001b[0m\u001b[1;33m,\u001b[0m \u001b[0mj\u001b[0m \u001b[1;32min\u001b[0m \u001b[0mcombinations\u001b[0m\u001b[1;33m(\u001b[0m\u001b[0mrange\u001b[0m\u001b[1;33m(\u001b[0m\u001b[0mn_candidates\u001b[0m\u001b[1;33m)\u001b[0m\u001b[1;33m,\u001b[0m \u001b[1;36m2\u001b[0m\u001b[1;33m)\u001b[0m\u001b[1;33m:\u001b[0m\u001b[1;33m\u001b[0m\u001b[1;33m\u001b[0m\u001b[0m\n\u001b[0;32m      5\u001b[0m         tau += (np.sign(rank_a[i] - rank_a[j]) ==\n\u001b[1;32m----> 6\u001b[1;33m                 -np.sign(rank_b[i] - rank_b[j]))\n\u001b[0m\u001b[0;32m      7\u001b[0m     \u001b[1;32mreturn\u001b[0m \u001b[0mtau\u001b[0m\u001b[1;33m\u001b[0m\u001b[1;33m\u001b[0m\u001b[0m\n\u001b[0;32m      8\u001b[0m \u001b[1;32mdef\u001b[0m \u001b[0mrankaggr_brute\u001b[0m\u001b[1;33m(\u001b[0m\u001b[0mranks\u001b[0m\u001b[1;33m)\u001b[0m\u001b[1;33m:\u001b[0m\u001b[1;33m\u001b[0m\u001b[1;33m\u001b[0m\u001b[0m\n",
      "\u001b[1;31mKeyboardInterrupt\u001b[0m: "
     ]
    }
   ],
   "source": [
    "aggr = rankaggr_brute(np.array(ranks))"
   ]
  },
  {
   "cell_type": "code",
   "execution_count": 2,
   "metadata": {},
   "outputs": [
    {
     "data": {
      "text/html": [
       "<div>\n",
       "<style scoped>\n",
       "    .dataframe tbody tr th:only-of-type {\n",
       "        vertical-align: middle;\n",
       "    }\n",
       "\n",
       "    .dataframe tbody tr th {\n",
       "        vertical-align: top;\n",
       "    }\n",
       "\n",
       "    .dataframe thead th {\n",
       "        text-align: right;\n",
       "    }\n",
       "</style>\n",
       "<table border=\"1\" class=\"dataframe\">\n",
       "  <thead>\n",
       "    <tr style=\"text-align: right;\">\n",
       "      <th></th>\n",
       "      <th>Unnamed: 0</th>\n",
       "      <th>Link</th>\n",
       "      <th>Source title</th>\n",
       "      <th>Index Keywords</th>\n",
       "      <th>Abstract</th>\n",
       "      <th>KDM</th>\n",
       "      <th>CAOT</th>\n",
       "      <th>SQM</th>\n",
       "      <th>SCA</th>\n",
       "      <th>Topic</th>\n",
       "    </tr>\n",
       "  </thead>\n",
       "  <tbody>\n",
       "    <tr>\n",
       "      <th>0</th>\n",
       "      <td>0</td>\n",
       "      <td>http://paulbourke.net/fractals/peterdejong/pet...</td>\n",
       "      <td>Computer recreations</td>\n",
       "      <td>zones; xsin; x; wrote; write</td>\n",
       "      <td>COMPUTER RECREATIONS Author s   A. K. Dewdney ...</td>\n",
       "      <td>0</td>\n",
       "      <td>-1000.000000</td>\n",
       "      <td>-1000</td>\n",
       "      <td>60</td>\n",
       "      <td>3</td>\n",
       "    </tr>\n",
       "    <tr>\n",
       "      <th>1</th>\n",
       "      <td>1</td>\n",
       "      <td>http://www.ivanpoupyrev.com/e-library/2004/CHI...</td>\n",
       "      <td>Gummi: a bendable computer</td>\n",
       "      <td>zooming; zoom; would; world; work</td>\n",
       "      <td>Gummi  A Bendable Computer  Carsten Schwesig  ...</td>\n",
       "      <td>0</td>\n",
       "      <td>5.122833</td>\n",
       "      <td>56</td>\n",
       "      <td>57</td>\n",
       "      <td>3</td>\n",
       "    </tr>\n",
       "    <tr>\n",
       "      <th>2</th>\n",
       "      <td>2</td>\n",
       "      <td>http://www.cs.cmu.edu/afs/cs/academic/class/15...</td>\n",
       "      <td>[BOOK][B] The design and analysis of computer ...</td>\n",
       "      <td>zs; z; would; working; words</td>\n",
       "      <td>THE  DESIGN  AND  ANALYSIS  OF  COMPUTER  ALGO...</td>\n",
       "      <td>0</td>\n",
       "      <td>774.245250</td>\n",
       "      <td>-32740</td>\n",
       "      <td>57</td>\n",
       "      <td>5</td>\n",
       "    </tr>\n",
       "    <tr>\n",
       "      <th>3</th>\n",
       "      <td>3</td>\n",
       "      <td>http://gordonbell.azurewebsites.net/tcmwebpage...</td>\n",
       "      <td>The illiac iv computer</td>\n",
       "      <td>zorz; zoro; zorn; zor; zerxta</td>\n",
       "      <td>Chapter 27  The ILLIAC IV computer 1  George H...</td>\n",
       "      <td>0</td>\n",
       "      <td>-1000.000000</td>\n",
       "      <td>-1000</td>\n",
       "      <td>55</td>\n",
       "      <td>3</td>\n",
       "    </tr>\n",
       "    <tr>\n",
       "      <th>4</th>\n",
       "      <td>4</td>\n",
       "      <td>http://wiki.cgt3d.cn/mediawiki/images/f/f7/Com...</td>\n",
       "      <td>[BOOK][B] Computer Systems</td>\n",
       "      <td>zp; zone; zombie; zhang; zf</td>\n",
       "      <td>third  global  edition Computer Systems A Prog...</td>\n",
       "      <td>0</td>\n",
       "      <td>-1000.000000</td>\n",
       "      <td>-1000</td>\n",
       "      <td>54</td>\n",
       "      <td>3</td>\n",
       "    </tr>\n",
       "  </tbody>\n",
       "</table>\n",
       "</div>"
      ],
      "text/plain": [
       "   Unnamed: 0                                               Link  \\\n",
       "0           0  http://paulbourke.net/fractals/peterdejong/pet...   \n",
       "1           1  http://www.ivanpoupyrev.com/e-library/2004/CHI...   \n",
       "2           2  http://www.cs.cmu.edu/afs/cs/academic/class/15...   \n",
       "3           3  http://gordonbell.azurewebsites.net/tcmwebpage...   \n",
       "4           4  http://wiki.cgt3d.cn/mediawiki/images/f/f7/Com...   \n",
       "\n",
       "                                        Source title  \\\n",
       "0                               Computer recreations   \n",
       "1                         Gummi: a bendable computer   \n",
       "2  [BOOK][B] The design and analysis of computer ...   \n",
       "3                             The illiac iv computer   \n",
       "4                         [BOOK][B] Computer Systems   \n",
       "\n",
       "                      Index Keywords  \\\n",
       "0       zones; xsin; x; wrote; write   \n",
       "1  zooming; zoom; would; world; work   \n",
       "2       zs; z; would; working; words   \n",
       "3      zorz; zoro; zorn; zor; zerxta   \n",
       "4        zp; zone; zombie; zhang; zf   \n",
       "\n",
       "                                            Abstract  KDM         CAOT    SQM  \\\n",
       "0  COMPUTER RECREATIONS Author s   A. K. Dewdney ...    0 -1000.000000  -1000   \n",
       "1  Gummi  A Bendable Computer  Carsten Schwesig  ...    0     5.122833     56   \n",
       "2  THE  DESIGN  AND  ANALYSIS  OF  COMPUTER  ALGO...    0   774.245250 -32740   \n",
       "3  Chapter 27  The ILLIAC IV computer 1  George H...    0 -1000.000000  -1000   \n",
       "4  third  global  edition Computer Systems A Prog...    0 -1000.000000  -1000   \n",
       "\n",
       "   SCA  Topic  \n",
       "0   60      3  \n",
       "1   57      3  \n",
       "2   57      5  \n",
       "3   55      3  \n",
       "4   54      3  "
      ]
     },
     "execution_count": 2,
     "metadata": {},
     "output_type": "execute_result"
    }
   ],
   "source": [
    "df.head()"
   ]
  },
  {
   "cell_type": "code",
   "execution_count": null,
   "metadata": {},
   "outputs": [],
   "source": []
  },
  {
   "cell_type": "code",
   "execution_count": 1,
   "metadata": {},
   "outputs": [
    {
     "name": "stderr",
     "output_type": "stream",
     "text": [
      "Using TensorFlow backend.\n",
      "c:\\users\\hp\\appdata\\local\\programs\\python\\python37\\lib\\site-packages\\flask_sqlalchemy\\__init__.py:834: FSADeprecationWarning: SQLALCHEMY_TRACK_MODIFICATIONS adds significant overhead and will be disabled by default in the future.  Set it to True or False to suppress this warning.\n",
      "  'SQLALCHEMY_TRACK_MODIFICATIONS adds significant overhead and '\n"
     ]
    }
   ],
   "source": [
    "from keras.models import Sequential\n",
    "from keras.layers import Dense\n",
    "from keras.layers import LSTM\n",
    "from sklearn.preprocessing import LabelEncoder\n",
    "import numpy as np\n",
    "import pandas as pd \n",
    "\n",
    "from app import db,User,Papers"
   ]
  },
  {
   "cell_type": "code",
   "execution_count": 2,
   "metadata": {},
   "outputs": [
    {
     "data": {
      "text/plain": [
       "18"
      ]
     },
     "execution_count": 2,
     "metadata": {},
     "output_type": "execute_result"
    }
   ],
   "source": [
    "user = 'aritra'\n",
    "\n",
    "papers = Papers.query.filter_by(UserID=user).all()\n",
    "len(papers)"
   ]
  },
  {
   "cell_type": "code",
   "execution_count": 3,
   "metadata": {},
   "outputs": [
    {
     "name": "stdout",
     "output_type": "stream",
     "text": [
      "(8, 10, 9)\n",
      "(8, 5)\n"
     ]
    }
   ],
   "source": [
    "inputs = 10\n",
    "Xin = []\n",
    "Yin = []\n",
    "for i in range(len(papers)-inputs):\n",
    "    Xi = []\n",
    "    for j in range(inputs):\n",
    "        X = [papers[i+j].KDM, papers[i+j].SCA, papers[i+j].SQM, papers[i+j].CAOT,0,0,0,0,0]\n",
    "        n = papers[i+j].topic\n",
    "        try:\n",
    "            X[3+n] = 1\n",
    "        except:\n",
    "            X[3+int.from_bytes(n,\"little\" )] = 1\n",
    "        Xi.append(X)\n",
    "    Xin.append(Xi)\n",
    "for i in range(inputs,len(papers)):\n",
    "    Yi = [0,0,0,0,0]\n",
    "    try:\n",
    "        Yi[papers[i].topic - 1] = 1\n",
    "    except:\n",
    "        Yi[int.from_bytes(papers[i].topic,\"little\" ) - 1] = 1\n",
    "    Yin.append(Yi)\n",
    "\n",
    "Yin = np.array(Yin)\n",
    "Xin = np.array(Xin)\n",
    "print(Xin.shape)\n",
    "print(Yin.shape)"
   ]
  },
  {
   "cell_type": "code",
   "execution_count": 4,
   "metadata": {},
   "outputs": [
    {
     "name": "stdout",
     "output_type": "stream",
     "text": [
      "Model: \"sequential_1\"\n",
      "_________________________________________________________________\n",
      "Layer (type)                 Output Shape              Param #   \n",
      "=================================================================\n",
      "lstm_1 (LSTM)                (None, 10, 50)            12000     \n",
      "_________________________________________________________________\n",
      "lstm_2 (LSTM)                (None, 10)                2440      \n",
      "_________________________________________________________________\n",
      "dense_1 (Dense)              (None, 5)                 55        \n",
      "=================================================================\n",
      "Total params: 14,495\n",
      "Trainable params: 14,495\n",
      "Non-trainable params: 0\n",
      "_________________________________________________________________\n"
     ]
    }
   ],
   "source": [
    "model = Sequential()\n",
    "model.add(LSTM(50,return_sequences=True, input_shape=(Xin.shape[1], Xin.shape[2])))\n",
    "model.add(LSTM(10,return_sequences=False))\n",
    "model.add(Dense(5,activation='softmax'))\n",
    "model.compile(loss='categorical_crossentropy', optimizer='adam',metrics=['accuracy'])\n",
    "model.summary()"
   ]
  },
  {
   "cell_type": "code",
   "execution_count": 5,
   "metadata": {},
   "outputs": [
    {
     "name": "stdout",
     "output_type": "stream",
     "text": [
      "Epoch 1/5\n",
      "8/8 [==============================] - 2s 207ms/step - loss: 1.6017 - accuracy: 0.1250\n",
      "Epoch 2/5\n",
      "8/8 [==============================] - 0s 749us/step - loss: 1.5583 - accuracy: 0.3750\n",
      "Epoch 3/5\n",
      "8/8 [==============================] - 0s 925us/step - loss: 1.5231 - accuracy: 0.5000\n",
      "Epoch 4/5\n",
      "8/8 [==============================] - 0s 997us/step - loss: 1.4947 - accuracy: 0.5000\n",
      "Epoch 5/5\n",
      "8/8 [==============================] - 0s 997us/step - loss: 1.4691 - accuracy: 0.6250\n"
     ]
    },
    {
     "data": {
      "text/plain": [
       "<keras.callbacks.callbacks.History at 0x1dade797d30>"
      ]
     },
     "execution_count": 5,
     "metadata": {},
     "output_type": "execute_result"
    }
   ],
   "source": [
    "model.fit(Xin, Yin, epochs = 5, shuffle=False,)"
   ]
  },
  {
   "cell_type": "code",
   "execution_count": 11,
   "metadata": {},
   "outputs": [],
   "source": [
    "final = np.argsort((-model.predict(Xin[-1].reshape(1,inputs,Xin.shape[2]))))[0][:2] + 1"
   ]
  },
  {
   "cell_type": "code",
   "execution_count": 14,
   "metadata": {},
   "outputs": [
    {
     "data": {
      "text/plain": [
       "array([3, 4], dtype=int64)"
      ]
     },
     "execution_count": 14,
     "metadata": {},
     "output_type": "execute_result"
    }
   ],
   "source": [
    "final"
   ]
  },
  {
   "cell_type": "code",
   "execution_count": 22,
   "metadata": {},
   "outputs": [
    {
     "data": {
      "text/plain": [
       "5"
      ]
     },
     "execution_count": 22,
     "metadata": {},
     "output_type": "execute_result"
    }
   ],
   "source": []
  },
  {
   "cell_type": "code",
   "execution_count": null,
   "metadata": {},
   "outputs": [],
   "source": []
  }
 ],
 "metadata": {
  "kernelspec": {
   "name": "python373jvsc74a57bd060eb1d0f96393a1e0420bb6ca0f5435a81d9c3ff4319ce3c90a222065ab89d85",
   "display_name": "Python 3.7.3 64-bit"
  },
  "language_info": {
   "codemirror_mode": {
    "name": "ipython",
    "version": 3
   },
   "file_extension": ".py",
   "mimetype": "text/x-python",
   "name": "python",
   "nbconvert_exporter": "python",
   "pygments_lexer": "ipython3",
   "version": "3.7.3"
  }
 },
 "nbformat": 4,
 "nbformat_minor": 2
}